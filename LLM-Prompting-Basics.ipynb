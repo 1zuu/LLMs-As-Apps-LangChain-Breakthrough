{
 "cells": [
  {
   "cell_type": "code",
   "execution_count": 12,
   "metadata": {},
   "outputs": [],
   "source": [
    "!pip -q install openai langchain huggingface_hub"
   ]
  },
  {
   "cell_type": "code",
   "execution_count": 22,
   "metadata": {},
   "outputs": [],
   "source": [
    "import os\n",
    "import yaml\n",
    "from langchain.llms import OpenAI\n",
    "from langchain import PromptTemplate\n",
    "from langchain.chains import LLMChain"
   ]
  },
  {
   "cell_type": "code",
   "execution_count": 15,
   "metadata": {},
   "outputs": [],
   "source": [
    "with open('cadentials.yaml') as f:\n",
    "    credentials = yaml.load(f, Loader=yaml.FullLoader)\n",
    "\n",
    "os.environ['OPENAI_API_KEY'] = credentials['OPENAI_API_KEY']\n",
    "os.environ['HUGGINGFACEHUB_API_TOKEN'] = credentials['HUGGINGFACEHUB_API_TOKEN']"
   ]
  },
  {
   "attachments": {},
   "cell_type": "markdown",
   "metadata": {},
   "source": [
    "## GPT3 Experiment: LLM-Prompting-Basics"
   ]
  },
  {
   "cell_type": "code",
   "execution_count": 16,
   "metadata": {},
   "outputs": [],
   "source": [
    "llm = OpenAI(\n",
    "            model_name='text-davinci-003', \n",
    "            temperature=0.9, \n",
    "            max_tokens = 256\n",
    "            )"
   ]
  },
  {
   "cell_type": "code",
   "execution_count": 20,
   "metadata": {},
   "outputs": [
    {
     "name": "stdout",
     "output_type": "stream",
     "text": [
      "\n",
      "\n",
      "To get to the other side.\n"
     ]
    }
   ],
   "source": [
    "text = \"Why did the duck cross the road?\"\n",
    "gen = llm(text)\n",
    "print(gen)"
   ]
  },
  {
   "attachments": {},
   "cell_type": "markdown",
   "metadata": {},
   "source": [
    "## Let's Make things more useful ; Prompt Templates"
   ]
  },
  {
   "cell_type": "code",
   "execution_count": 24,
   "metadata": {},
   "outputs": [],
   "source": [
    "\n",
    "restaurant_template = \"\"\"\n",
    "                        I want you to act as a naming consultant for new restaurants.\n",
    "\n",
    "                        Return a list of restaurant names. Each name should be short, catchy and easy to remember. It shoud relate to the type of restaurant you are naming.\n",
    "\n",
    "                        What are some good names for a restaurant that is {restaurant_desription}?\n",
    "                        \"\"\"\n",
    "\n",
    "prompt = PromptTemplate(\n",
    "                        input_variables=[\"restaurant_desription\"],\n",
    "                        template=restaurant_template,\n",
    "                    )\n",
    "    \n",
    "chain = LLMChain(llm=llm, prompt=prompt)"
   ]
  },
  {
   "attachments": {},
   "cell_type": "markdown",
   "metadata": {},
   "source": [
    "#### see. now you can apply this prompt for variety of restaurant desriptions as  mentioned in below cell"
   ]
  },
  {
   "cell_type": "code",
   "execution_count": 27,
   "metadata": {},
   "outputs": [
    {
     "name": "stdout",
     "output_type": "stream",
     "text": [
      "#### a Greek place that serves fresh lamb souvlakis and other Greek food  ####\n",
      "\n",
      "1. The Souvlaki Spot\n",
      "2. Lamb Lover's Paradise\n",
      "3. Zeus' Kitchen\n",
      "4. Athena's Delight\n",
      "5. The Greek Grill\n",
      "6. Grecian Treats\n",
      "7. Souvlaki Shack\n",
      "8. The Mainland\n",
      "9. Aegean Platter\n",
      "10. The Appetizer Palace\n",
      "#### a burger place that is themed with baseball memorabilia ####\n",
      "\n",
      "                        - The Home Plate\n",
      "                        - Slugger Burger\n",
      "                        - MVP Grill\n",
      "                        - The Bullpen Burger\n",
      "                        - Batter Up Burgers\n",
      "                        - Grand Slam Grill\n",
      "                        - Fastball Cafe\n",
      "                        - Grandstand Grill\n",
      "                        - Strike Zone Grill\n",
      "                        - Big League Burgers\n",
      "                        - Diamond Dog Cafe\n",
      "                        - All Star Eatery\n",
      "#### a cafe that has live hard rock music and memorabilia ####\n",
      "\n",
      "1. Rockin' Cafe \n",
      "2. Hard Rock Grill \n",
      "3. Full Volume Cafe \n",
      "4. Electric Cafe \n",
      "5. Amplified Eatery \n",
      "6. Live Music Bistro \n",
      "7. Rock Out Diner \n",
      "8. Rock Cafe \n",
      "9. Rockstar Eatery \n",
      "10. Rock & Roll Cafe\n",
      "#### a restaurant that serves only vegetarian food ####\n",
      "\n",
      "1. Green Garden\n",
      "2. Veggie Haven\n",
      "3. Garden Fresh\n",
      "4. The Veg Spot\n",
      "5. Sprout Spot\n",
      "6. Earthy Eats\n",
      "7. Vege Delight\n",
      "8. The Garden Plate\n",
      "9. Plant Plate\n",
      "10. Veg Out\n"
     ]
    }
   ],
   "source": [
    "descriptions = [\n",
    "                \"a Greek place that serves fresh lamb souvlakis and other Greek food \",\n",
    "                \"a burger place that is themed with baseball memorabilia\",\n",
    "                \"a cafe that has live hard rock music and memorabilia\",\n",
    "                \"a restaurant that serves only vegetarian food\",\n",
    "                ]\n",
    "\n",
    "## to see what the prompt will be like\n",
    "for description in descriptions:\n",
    "    result = chain.run(description)\n",
    "    print(\"#### {} ####\".format(description))\n",
    "    print(result)\n",
    "    "
   ]
  },
  {
   "cell_type": "code",
   "execution_count": null,
   "metadata": {},
   "outputs": [],
   "source": []
  }
 ],
 "metadata": {
  "kernelspec": {
   "display_name": "torch113",
   "language": "python",
   "name": "python3"
  },
  "language_info": {
   "codemirror_mode": {
    "name": "ipython",
    "version": 3
   },
   "file_extension": ".py",
   "mimetype": "text/x-python",
   "name": "python",
   "nbconvert_exporter": "python",
   "pygments_lexer": "ipython3",
   "version": "3.8.16"
  },
  "orig_nbformat": 4
 },
 "nbformat": 4,
 "nbformat_minor": 2
}
