{
 "cells": [
  {
   "cell_type": "code",
   "execution_count": 1,
   "metadata": {},
   "outputs": [],
   "source": [
    "import os\n",
    "import yaml\n",
    "from langchain.llms import OpenAI\n",
    "from langchain import PromptTemplate\n",
    "from langchain.chains import LLMChain"
   ]
  },
  {
   "cell_type": "code",
   "execution_count": 2,
   "metadata": {},
   "outputs": [],
   "source": [
    "with open('cadentials.yaml') as f:\n",
    "    credentials = yaml.load(f, Loader=yaml.FullLoader)\n",
    "\n",
    "os.environ['OPENAI_API_KEY'] = credentials['OPENAI_API_KEY']\n",
    "os.environ['HUGGINGFACEHUB_API_TOKEN'] = credentials['HUGGINGFACEHUB_API_TOKEN']"
   ]
  },
  {
   "attachments": {},
   "cell_type": "markdown",
   "metadata": {},
   "source": [
    "## Phase 01 - Fact Extraction LLMChain "
   ]
  },
  {
   "cell_type": "code",
   "execution_count": 3,
   "metadata": {},
   "outputs": [],
   "source": [
    "llm = OpenAI(\n",
    "            model_name='text-davinci-003', \n",
    "            temperature=0, \n",
    "            max_tokens = 256\n",
    "            )"
   ]
  },
  {
   "cell_type": "code",
   "execution_count": 4,
   "metadata": {},
   "outputs": [],
   "source": [
    "prompt_01 = \"Extract the key facts out of this text. Don't include opinions. Give each fact a number and keep them short sentences. :\\n\\n {text_input}\"\n",
    "\n",
    "fact_extraction_prompt = PromptTemplate(\n",
    "                                    input_variables=[\"text_input\"],\n",
    "                                    template=prompt_01\n",
    "                                    )\n",
    "\n",
    "fact_extraction_chain = LLMChain(\n",
    "                                llm=llm,\n",
    "                                prompt=fact_extraction_prompt\n",
    "                                )"
   ]
  },
  {
   "cell_type": "code",
   "execution_count": 5,
   "metadata": {},
   "outputs": [
    {
     "name": "stdout",
     "output_type": "stream",
     "text": [
      "\n",
      "1. Coinbase released its Q4 2022 earnings on Tuesday.\n",
      "2. Coinbase generated $605 million in total revenue in Q4 2022.\n",
      "3. Coinbase lost $557 million in the three-month period on a GAAP basis.\n",
      "4. Wall Street expected Coinbase to report $581.2 million in revenue.\n",
      "5. Coinbase's stock had risen 86% year-to-date before its Q4 earnings were released.\n",
      "6. Consumer trading volumes fell from $26 billion in Q3 2022 to $20 billion in Q4 2022.\n",
      "7. Institutional volumes across the same timeframe fell from $133 billion to $125 billion.\n",
      "8. The overall crypto market capitalization fell about 64%, or $1.5 trillion during 2022.\n",
      "9. Coinbase's total trading volumes and transaction revenues fell 50% and 66% year-over-year, respectively.\n",
      "10. Trading revenue at Coinbase fell from $365.9 million in Q3 2022 to $322.1 million in Q4 2022.\n",
      "11. Coinbase's \"subscription and services revenue\" rose from $210.5 million in Q3 2022 to $282.8 million in Q4 2022.\n",
      "12. Monthly active developers in crypto have more than doubled since\n"
     ]
    }
   ],
   "source": [
    "article = '''Coinbase, the second-largest crypto exchange by trading volume, released its Q4 2022 earnings on Tuesday, giving shareholders and market players alike an updated look into its financials. In response to the report, the company's shares are down modestly in early after-hours trading.In the fourth quarter of 2022, Coinbase generated $605 million in total revenue, down sharply from $2.49 billion in the year-ago quarter. Coinbase's top line was not enough to cover its expenses: The company lost $557 million in the three-month period on a GAAP basis (net income) worth -$2.46 per share, and an adjusted EBITDA deficit of $124 million.Wall Street expected Coinbase to report $581.2 million in revenue and earnings per share of -$2.44 with adjusted EBITDA of -$201.8 million driven by 8.4 million monthly transaction users (MTUs), according to data provided by Yahoo Finance.Before its Q4 earnings were released, Coinbase's stock had risen 86% year-to-date. Even with that rally, the value of Coinbase when measured on a per-share basis is still down significantly from its 52-week high of $206.79.That Coinbase beat revenue expectations is notable in that it came with declines in trading volume; Coinbase historically generated the bulk of its revenues from trading fees, making Q4 2022 notable. Consumer trading volumes fell from $26 billion in the third quarter of last year to $20 billion in Q4, while institutional volumes across the same timeframe fell from $133 billion to $125 billion.The overall crypto market capitalization fell about 64%, or $1.5 trillion during 2022, which resulted in Coinbase's total trading volumes and transaction revenues to fall 50% and 66% year-over-year, respectively, the company reported.As you would expect with declines in trading volume, trading revenue at Coinbase fell in Q4 compared to the third quarter of last year, dipping from $365.9 million to $322.1 million. (TechCrunch is comparing Coinbase's Q4 2022 results to Q3 2022 instead of Q4 2021, as the latter comparison would be less useful given how much the crypto market has changed in the last year; we're all aware that overall crypto activity has fallen from the final months of 2021.)There were bits of good news in the Coinbase report. While Coinbase's trading revenues were less than exuberant, the company's other revenues posted gains. What Coinbase calls its \"subscription and services revenue\" rose from $210.5 million in Q3 2022 to $282.8 million in Q4 of the same year, a gain of just over 34% in a single quarter.And even as the crypto industry faced a number of catastrophic events, including the Terra/LUNA and FTX collapses to name a few, there was still growth in other areas. The monthly active developers in crypto have more than doubled since 2020 to over 20,000, while major brands like Starbucks, Nike and Adidas have dived into the space alongside social media platforms like Instagram and Reddit.With big players getting into crypto, industry players are hoping this move results in greater adoption both for product use cases and trading volumes. Although there was a lot of movement from traditional retail markets and Web 2.0 businesses, trading volume for both consumer and institutional users fell quarter-over-quarter for Coinbase.Looking forward, it'll be interesting to see if these pieces pick back up and trading interest reemerges in 2023, or if platforms like Coinbase will have to keep looking elsewhere for revenue (like its subscription service) if users continue to shy away from the market.\n",
    "'''\n",
    "facts = fact_extraction_chain.run(article)\n",
    "\n",
    "print(facts)"
   ]
  },
  {
   "attachments": {},
   "cell_type": "markdown",
   "metadata": {},
   "source": [
    "## Phase 02 - Combine the Facts LLMChain with Summary Generation"
   ]
  },
  {
   "attachments": {},
   "cell_type": "markdown",
   "metadata": {},
   "source": [
    "#### Rewrite as a summary from the facts"
   ]
  },
  {
   "cell_type": "code",
   "execution_count": 6,
   "metadata": {},
   "outputs": [
    {
     "data": {
      "text/plain": [
       "' the start of 2022.\\n\\nCoinbase released its Q4 2022 earnings on Tuesday, reporting total revenue of $605 million, which was slightly above Wall Street\\'s expectations of $581.2 million. Despite the positive revenue figure, Coinbase reported a GAAP loss of $557 million in the three-month period. Coinbase\\'s stock had risen 86% year-to-date before its Q4 earnings were released. Consumer trading volumes fell from $26 billion in Q3 2022 to $20 billion in Q4 2022, while institutional volumes across the same timeframe fell from $133 billion to $125 billion. The overall crypto market capitalization fell about 64%, or $1.5 trillion during 2022, leading to a 50% and 66% year-over-year decline in Coinbase\\'s total trading volumes and transaction revenues, respectively. Trading revenue at Coinbase fell from $365.9 million in Q3 2022 to $322.1 million in Q4 2022, while its \"subscription and services revenue\" rose from $210.5 million in Q3 2022 to $282.8 million in Q4 2022. Despite the overall decline in the crypto market, monthly active developers in crypto have more than doubled since the start of 2022.'"
      ]
     },
     "execution_count": 6,
     "metadata": {},
     "output_type": "execute_result"
    }
   ],
   "source": [
    "prompt_02 = \"You are a Goldman Sachs analyst. Take the following list of facts and use them to write a short paragrah for investors. Don't leave out key info:\\n\\n {facts}\"\n",
    "summarty_gen_prompt = PromptTemplate(\n",
    "                                input_variables=[\"facts\"],\n",
    "                                template=prompt_02\n",
    "                                )\n",
    "\n",
    "summary_gen_chain = LLMChain(\n",
    "                            llm=llm,\n",
    "                            prompt=summarty_gen_prompt\n",
    "                            )\n",
    "\n",
    "summary = summary_gen_chain.run(facts)\n",
    "summary"
   ]
  },
  {
   "attachments": {},
   "cell_type": "markdown",
   "metadata": {},
   "source": [
    "## Final Lap - Chaining these together"
   ]
  },
  {
   "cell_type": "code",
   "execution_count": 7,
   "metadata": {},
   "outputs": [],
   "source": [
    "from langchain.chains import SimpleSequentialChain, SequentialChain\n",
    "\n",
    "full_chain = SimpleSequentialChain(\n",
    "                            chains=[\n",
    "                                    fact_extraction_chain,\n",
    "                                    summary_gen_chain\n",
    "                                    ],\n",
    "                            verbose=True\n",
    "                            )"
   ]
  },
  {
   "cell_type": "code",
   "execution_count": 8,
   "metadata": {},
   "outputs": [
    {
     "name": "stdout",
     "output_type": "stream",
     "text": [
      "\n",
      "\n",
      "\u001b[1m> Entering new SimpleSequentialChain chain...\u001b[0m\n",
      "\u001b[36;1m\u001b[1;3m\n",
      "1. Coinbase released its Q4 2022 earnings on Tuesday.\n",
      "2. Coinbase generated $605 million in total revenue in Q4 2022.\n",
      "3. Coinbase lost $557 million in the three-month period on a GAAP basis.\n",
      "4. Wall Street expected Coinbase to report $581.2 million in revenue.\n",
      "5. Coinbase's stock had risen 86% year-to-date before its Q4 earnings were released.\n",
      "6. Consumer trading volumes fell from $26 billion in Q3 2022 to $20 billion in Q4 2022.\n",
      "7. Institutional volumes across the same timeframe fell from $133 billion to $125 billion.\n",
      "8. The overall crypto market capitalization fell about 64%, or $1.5 trillion during 2022.\n",
      "9. Coinbase's total trading volumes and transaction revenues fell 50% and 66% year-over-year, respectively.\n",
      "10. Trading revenue at Coinbase fell from $365.9 million in Q3 2022 to $322.1 million in Q4 2022.\n",
      "11. Coinbase's \"subscription and services revenue\" rose from $210.5 million in Q3 2022 to $282.8 million in Q4 2022.\n",
      "12. Monthly active developers in crypto have more than doubled since\u001b[0m\n",
      "\u001b[33;1m\u001b[1;3m the start of 2022.\n",
      "\n",
      "Coinbase released its Q4 2022 earnings on Tuesday, reporting total revenue of $605 million, which was slightly above Wall Street's expectations of $581.2 million. Despite the positive revenue figure, Coinbase reported a GAAP loss of $557 million in the three-month period. Coinbase's stock had risen 86% year-to-date before its Q4 earnings were released. Consumer trading volumes fell from $26 billion in Q3 2022 to $20 billion in Q4 2022, while institutional volumes across the same timeframe fell from $133 billion to $125 billion. The overall crypto market capitalization fell about 64%, or $1.5 trillion during 2022, leading to a 50% and 66% year-over-year decline in Coinbase's total trading volumes and transaction revenues, respectively. Trading revenue at Coinbase fell from $365.9 million in Q3 2022 to $322.1 million in Q4 2022, while its \"subscription and services revenue\" rose from $210.5 million in Q3 2022 to $282.8 million in Q4 2022. Despite the overall decline in the crypto market, monthly active developers in crypto have more than doubled since the start of 2022.\u001b[0m\n",
      "\n",
      "\u001b[1m> Finished chain.\u001b[0m\n"
     ]
    },
    {
     "data": {
      "text/plain": [
       "' the start of 2022.\\n\\nCoinbase released its Q4 2022 earnings on Tuesday, reporting total revenue of $605 million, which was slightly above Wall Street\\'s expectations of $581.2 million. Despite the positive revenue figure, Coinbase reported a GAAP loss of $557 million in the three-month period. Coinbase\\'s stock had risen 86% year-to-date before its Q4 earnings were released. Consumer trading volumes fell from $26 billion in Q3 2022 to $20 billion in Q4 2022, while institutional volumes across the same timeframe fell from $133 billion to $125 billion. The overall crypto market capitalization fell about 64%, or $1.5 trillion during 2022, leading to a 50% and 66% year-over-year decline in Coinbase\\'s total trading volumes and transaction revenues, respectively. Trading revenue at Coinbase fell from $365.9 million in Q3 2022 to $322.1 million in Q4 2022, while its \"subscription and services revenue\" rose from $210.5 million in Q3 2022 to $282.8 million in Q4 2022. Despite the overall decline in the crypto market, monthly active developers in crypto have more than doubled since the start of 2022.'"
      ]
     },
     "execution_count": 8,
     "metadata": {},
     "output_type": "execute_result"
    }
   ],
   "source": [
    "response = full_chain.run(article)\n",
    "response"
   ]
  },
  {
   "cell_type": "code",
   "execution_count": null,
   "metadata": {},
   "outputs": [],
   "source": []
  }
 ],
 "metadata": {
  "kernelspec": {
   "display_name": "torch113",
   "language": "python",
   "name": "python3"
  },
  "language_info": {
   "codemirror_mode": {
    "name": "ipython",
    "version": 3
   },
   "file_extension": ".py",
   "mimetype": "text/x-python",
   "name": "python",
   "nbconvert_exporter": "python",
   "pygments_lexer": "ipython3",
   "version": "3.8.16"
  },
  "orig_nbformat": 4
 },
 "nbformat": 4,
 "nbformat_minor": 2
}
